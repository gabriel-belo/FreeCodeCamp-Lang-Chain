{
 "cells": [
  {
   "cell_type": "markdown",
   "id": "d1c47b74",
   "metadata": {},
   "source": [
    "Crie um Agente de elogios personalizado usando o LangGraph\n",
    "\n",
    "Input: {\"name\": \"Bob\"}\n",
    "\n",
    "Output: \"Bob, you're doing an amazing job learning LangGraph!\""
   ]
  },
  {
   "cell_type": "code",
   "execution_count": 2,
   "id": "39d8802b",
   "metadata": {},
   "outputs": [],
   "source": [
    "from typing import Dict, TypedDict\n",
    "from langgraph.graph import StateGraph "
   ]
  },
  {
   "cell_type": "code",
   "execution_count": 3,
   "id": "0c456d5b",
   "metadata": {},
   "outputs": [],
   "source": [
    "class AgentState(TypedDict):\n",
    "    message: str"
   ]
  },
  {
   "cell_type": "code",
   "execution_count": 4,
   "id": "a5e51e0a",
   "metadata": {},
   "outputs": [],
   "source": [
    "def compliment_node(state: AgentState) -> AgentState:\n",
    "    \"\"\"Simple node that add a compliment message\"\"\"\n",
    "\n",
    "    state[\"message\"]= state[\"message\"]+ \", you're doing an amazing job learning LangGraph!\"\n",
    "\n",
    "    return state\n",
    "\n",
    "graph= StateGraph(AgentState)\n",
    "\n",
    "graph.add_node(\"compliment\", compliment_node)\n",
    "\n",
    "graph.set_entry_point(\"compliment\")\n",
    "graph.set_finish_point(\"compliment\")\n",
    "\n",
    "app= graph.compile()"
   ]
  },
  {
   "cell_type": "code",
   "execution_count": 5,
   "id": "14069e18",
   "metadata": {},
   "outputs": [],
   "source": [
    "result= app.invoke({\"message\": \"Bob\"})"
   ]
  },
  {
   "cell_type": "code",
   "execution_count": 6,
   "id": "4352faba",
   "metadata": {},
   "outputs": [
    {
     "data": {
      "text/plain": [
       "\"Bob, you're doing an amazing job learning LangGraph!\""
      ]
     },
     "execution_count": 6,
     "metadata": {},
     "output_type": "execute_result"
    }
   ],
   "source": [
    "result[\"message\"]"
   ]
  }
 ],
 "metadata": {
  "kernelspec": {
   "display_name": "Python 3",
   "language": "python",
   "name": "python3"
  },
  "language_info": {
   "codemirror_mode": {
    "name": "ipython",
    "version": 3
   },
   "file_extension": ".py",
   "mimetype": "text/x-python",
   "name": "python",
   "nbconvert_exporter": "python",
   "pygments_lexer": "ipython3",
   "version": "3.14.0"
  }
 },
 "nbformat": 4,
 "nbformat_minor": 5
}
