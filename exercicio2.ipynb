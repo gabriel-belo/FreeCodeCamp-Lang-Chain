{
 "cells": [
  {
   "cell_type": "code",
   "execution_count": 9,
   "id": "94899921",
   "metadata": {},
   "outputs": [],
   "source": [
    "from typing import Dict, TypedDict, List\n",
    "from langgraph.graph import StateGraph \n",
    "from math import prod"
   ]
  },
  {
   "cell_type": "code",
   "execution_count": 10,
   "id": "c734512f",
   "metadata": {},
   "outputs": [],
   "source": [
    "class AgentState(TypedDict):\n",
    "    list: List[int]\n",
    "    name: str\n",
    "    operation: str\n",
    "    result: str\n",
    "\n"
   ]
  },
  {
   "cell_type": "code",
   "execution_count": 11,
   "id": "6da09a6c",
   "metadata": {},
   "outputs": [],
   "source": [
    "def calculus_node(state: AgentState) -> AgentState:\n",
    "    \"\"\"Function to make the calculus of numbers list\"\"\"\n",
    "    if(state[\"operation\"] == \"+\"):\n",
    "        state[\"list\"]= sum(state[\"list\"])\n",
    "        state[\"result\"]= f\"Hi {state['name']}, your answer is: {state[\"list\"]}\"\n",
    "        return state\n",
    "    \n",
    "    elif(state[\"operation\"] == \"-\"):\n",
    "        state[\"list\"]= min(state[\"list\"])  \n",
    "        state[\"result\"]= f\"Hi {state['name']}, your answer is: {state[\"list\"]}\"\n",
    "        return state\n",
    "    \n",
    "    elif(state[\"operation\"] == \"*\"):\n",
    "        state[\"list\"]= prod(state[\"list\"])  \n",
    "        state[\"result\"]= f\"Hi {state['name']}, your answer is: {state[\"list\"]}\"\n",
    "        return state"
   ]
  },
  {
   "cell_type": "code",
   "execution_count": 12,
   "id": "5140e11d",
   "metadata": {},
   "outputs": [],
   "source": [
    "graph= StateGraph(AgentState)\n",
    "\n",
    "graph.add_node(\"calculus\", calculus_node)\n",
    "graph.set_entry_point(\"calculus\")\n",
    "graph.set_finish_point(\"calculus\")\n",
    "\n",
    "app= graph.compile()"
   ]
  },
  {
   "cell_type": "code",
   "execution_count": 13,
   "id": "d04745f7",
   "metadata": {},
   "outputs": [
    {
     "name": "stdout",
     "output_type": "stream",
     "text": [
      "Hi Gabriel, your answer is: 720\n"
     ]
    }
   ],
   "source": [
    "answer= app.invoke({\"list\": [4, 3, 2, 5, 6], \"name\": \"Gabriel\", \"operation\": \"*\"})\n",
    "print(answer[\"result\"])"
   ]
  }
 ],
 "metadata": {
  "kernelspec": {
   "display_name": "Python 3",
   "language": "python",
   "name": "python3"
  },
  "language_info": {
   "codemirror_mode": {
    "name": "ipython",
    "version": 3
   },
   "file_extension": ".py",
   "mimetype": "text/x-python",
   "name": "python",
   "nbconvert_exporter": "python",
   "pygments_lexer": "ipython3",
   "version": "3.14.0"
  }
 },
 "nbformat": 4,
 "nbformat_minor": 5
}
