{
 "cells": [
  {
   "cell_type": "code",
   "execution_count": null,
   "id": "6f5ac89f",
   "metadata": {},
   "outputs": [],
   "source": [
    "from typing import Dict, TypedDict, List\n",
    "import random\n",
    "from langgraph.graph import StateGraph "
   ]
  },
  {
   "cell_type": "code",
   "execution_count": null,
   "id": "055bf4f2",
   "metadata": {},
   "outputs": [],
   "source": [
    "class AgentState(TypedDict):\n",
    "    name: str\n",
    "    number: List[int]\n",
    "    counter: int"
   ]
  },
  {
   "cell_type": "code",
   "execution_count": null,
   "id": "7a4e3a3d",
   "metadata": {},
   "outputs": [],
   "source": [
    "def greeting_node(state: AgentState) -> AgentState:\n",
    "    \"\"\"Greeting Node Wich says Hi to the person\"\"\"\n",
    "    state[\"name\"]= f\"Hi there, {state[\"name\"]}\"\n",
    "    state[\"counter\"]= 0\n",
    "    return state\n",
    "\n",
    "def random_node(state: AgentState) -> AgentState:\n",
    "    \"\"\"Generates a random numberfrom 0 to 10\"\"\"\n",
    "    state[\"number\"].append(random.randint(0, 10))\n",
    "    state[\"counter\"] +=1\n",
    "\n",
    "    return state\n",
    "\n",
    "def should_continue(state: AgentState) -> AgentState:\n",
    "    \"\"\"Function to decide what to do next\"\"\"\n",
    "    if state[\"counter\"] < 5:\n",
    "        print(f\"ENTERING LOOP: {state[\"counter\"]}\")\n",
    "        return \"loop\"\n",
    "    else:\n",
    "        return \"exit\""
   ]
  },
  {
   "cell_type": "code",
   "execution_count": null,
   "id": "5039209c",
   "metadata": {},
   "outputs": [],
   "source": [
    "graph= StateGraph(AgentState)\n",
    "\n"
   ]
  }
 ],
 "metadata": {
  "language_info": {
   "name": "python"
  }
 },
 "nbformat": 4,
 "nbformat_minor": 5
}
