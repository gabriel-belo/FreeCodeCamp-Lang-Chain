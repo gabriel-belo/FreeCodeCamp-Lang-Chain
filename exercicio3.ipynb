{
 "cells": [
  {
   "cell_type": "code",
   "execution_count": 4,
   "id": "acd026b4",
   "metadata": {},
   "outputs": [],
   "source": [
    "from typing import TypedDict, List\n",
    "from langgraph.graph import StateGraph"
   ]
  },
  {
   "cell_type": "code",
   "execution_count": 5,
   "id": "1b3733d2",
   "metadata": {},
   "outputs": [],
   "source": [
    "class AgentState(TypedDict):\n",
    "    name: str\n",
    "    age:str\n",
    "    skills: List[str]\n",
    "    final: str"
   ]
  },
  {
   "cell_type": "code",
   "execution_count": 6,
   "id": "fe0ca823",
   "metadata": {},
   "outputs": [],
   "source": [
    "def first_node(state: AgentState) -> AgentState:\n",
    "    \"\"\"first node personalizes the name field with a greeting\"\"\"\n",
    "    state['final']= f\"Hey {state[\"name\"]}!!! \"\n",
    "    return state\n",
    "\n",
    "def second_node(state: AgentState) -> AgentState:\n",
    "    \"\"\"Second node describes de user's age\"\"\"\n",
    "    state[\"final\"]= state[\"final\"] + f\"You  are {state[\"age\"]}. \"\n",
    "    return state\n",
    "\n",
    "def third_node(state:AgentState) ->AgentState:\n",
    "    \"\"\"Third node Lists the user's skills in a formatted string\"\"\" \n",
    "    state[\"final\"]= state[\"final\"] + f\"You have skills in: {state[\"skills\"][0]}, {state[\"skills\"][1]} and {state[\"skills\"][2]} \"\n",
    "    return state\n",
    "\n",
    "graph= StateGraph(AgentState)\n",
    "\n",
    "graph.add_node(\"first\", first_node)\n",
    "graph.add_node(\"second\", second_node)\n",
    "graph.add_node(\"third\", third_node)\n",
    "\n",
    "graph.set_entry_point(\"first\")\n",
    "graph.add_edge(\"first\", \"second\")\n",
    "graph.add_edge(\"second\", \"third\")\n",
    "graph.set_finish_point(\"third\")\n",
    "app= graph.compile()"
   ]
  },
  {
   "cell_type": "code",
   "execution_count": 7,
   "id": "a60a5b08",
   "metadata": {},
   "outputs": [
    {
     "data": {
      "image/png": "[encoded data removed]",
      "text/plain": [
       "<IPython.core.display.Image object>"
      ]
     },
     "metadata": {},
     "output_type": "display_data"
    }
   ],
   "source": [
    "from IPython.display import Image, display\n",
    "display(Image(app.get_graph().draw_mermaid_png()))"
   ]
  },
  {
   "cell_type": "code",
   "execution_count": 8,
   "id": "42ddffb6",
   "metadata": {},
   "outputs": [
    {
     "name": "stdout",
     "output_type": "stream",
     "text": [
      "{'name': 'Gabriel', 'age': '21', 'skills': ['Python', 'Machine Learning', 'LangGraph'], 'final': 'Hey Gabriel!!! You  are 21. You have skills in: Python, Machine Learning and LangGraph '}\n"
     ]
    }
   ],
   "source": [
    "result= app.invoke({\"name\":\"Gabriel\", \"age\": \"21\", \"skills\": [\"Python\", \"Machine Learning\", \"LangGraph\"]})\n",
    "print(result)"
   ]
  }
 ],
 "metadata": {
  "kernelspec": {
   "display_name": "Python 3",
   "language": "python",
   "name": "python3"
  },
  "language_info": {
   "codemirror_mode": {
    "name": "ipython",
    "version": 3
   },
   "file_extension": ".py",
   "mimetype": "text/x-python",
   "name": "python",
   "nbconvert_exporter": "python",
   "pygments_lexer": "ipython3",
   "version": "3.14.0"
  }
 },
 "nbformat": 4,
 "nbformat_minor": 5
}
