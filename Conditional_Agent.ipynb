{
 "cells": [
  {
   "cell_type": "code",
   "execution_count": 4,
   "id": "bee0e84f",
   "metadata": {},
   "outputs": [],
   "source": [
    "from typing import TypedDict\n",
    "from langgraph.graph import StateGraph, START, END"
   ]
  },
  {
   "cell_type": "code",
   "execution_count": 5,
   "id": "26807edc",
   "metadata": {},
   "outputs": [],
   "source": [
    "class AgentState(TypedDict):\n",
    "    number1: int\n",
    "    operation: str\n",
    "    number2: int\n",
    "    finalNumber: int"
   ]
  },
  {
   "cell_type": "code",
   "execution_count": 6,
   "id": "995f91fe",
   "metadata": {},
   "outputs": [],
   "source": [
    "def adder(state: AgentState)-> AgentState:\n",
    "    \"\"\"This node adds the 2 numbers\"\"\"\n",
    "    state[\"finalNumber\"]= state[\"number1\"] + state[\"number2\"]\n",
    "\n",
    "    return state\n",
    "\n",
    "def subtractor(state: AgentState) -> AgentState:\n",
    "    \"\"\"This node subtracts the 2 numbers\"\"\"\n",
    "    state[\"finalNumber\"]= state[\"number1\"] - state[\"number2\"]\n",
    "    return state\n",
    "\n",
    "def decide_next_node(state: AgentState) -> AgentState:\n",
    "    \"\"\"This node will select the next node of the graph\"\"\"\n",
    "    if state[\"operation\"] == \"+\":\n",
    "        return \"addition_operation\"\n",
    "    \n",
    "    elif state[\"operation\"] == \"-\":\n",
    "        return \"subtraction_operation\"\n",
    "    "
   ]
  },
  {
   "cell_type": "code",
   "execution_count": null,
   "id": "b6c266cb",
   "metadata": {},
   "outputs": [
    {
     "ename": "TypeError",
     "evalue": "StateGraph.add_edge() missing 1 required positional argument: 'end_key'",
     "output_type": "error",
     "traceback": [
      "\u001b[31m---------------------------------------------------------------------------\u001b[39m",
      "\u001b[31mTypeError\u001b[39m                                 Traceback (most recent call last)",
      "\u001b[36mCell\u001b[39m\u001b[36m \u001b[39m\u001b[32mIn[7]\u001b[39m\u001b[32m, line 18\u001b[39m\n\u001b[32m      8\u001b[39m graph.add_conditional_edges(\n\u001b[32m      9\u001b[39m     \u001b[33m\"\u001b[39m\u001b[33mrouter\u001b[39m\u001b[33m\"\u001b[39m,\n\u001b[32m     10\u001b[39m     decide_next_node,\n\u001b[32m   (...)\u001b[39m\u001b[32m     14\u001b[39m     }\n\u001b[32m     15\u001b[39m )\n\u001b[32m     17\u001b[39m graph.add_edge(\u001b[33m\"\u001b[39m\u001b[33madd_node\u001b[39m\u001b[33m\"\u001b[39m, END)\n\u001b[32m---> \u001b[39m\u001b[32m18\u001b[39m \u001b[43mgraph\u001b[49m\u001b[43m.\u001b[49m\u001b[43madd_edge\u001b[49m\u001b[43m(\u001b[49m\u001b[33;43m\"\u001b[39;49m\u001b[33;43msubtract_node\u001b[39;49m\u001b[33;43m\"\u001b[39;49m\u001b[43m)\u001b[49m\n\u001b[32m     20\u001b[39m app= graph.compile()\n",
      "\u001b[31mTypeError\u001b[39m: StateGraph.add_edge() missing 1 required positional argument: 'end_key'"
     ]
    }
   ],
   "source": [
    "graph= StateGraph(AgentState)\n",
    "\n",
    "graph.add_node(\"add_node\", adder)\n",
    "graph.add_node(\"subtract_node\", subtractor)\n",
    "graph.add_node(\"router\", lambda state: state)\n",
    "\n",
    "graph.add_edge(START, \"router\")\n",
    "graph.add_conditional_edges(\n",
    "    \"router\",\n",
    "    decide_next_node,\n",
    "    {\n",
    "        \"addition_operation\": \"add_node\",\n",
    "        \"subtraction_operation\":\" subtract_node\"\n",
    "    }\n",
    ")\n",
    "\n",
    "graph.add_edge(\"add_node\", END)\n",
    "graph.add_edge(\"subtract_node\", END)\n",
    "\n",
    "app= graph.compile()\n"
   ]
  },
  {
   "cell_type": "code",
   "execution_count": null,
   "id": "a724eeff",
   "metadata": {},
   "outputs": [],
   "source": [
    "from IPython.display import Image, display\n",
    "display(Image(app.get_graph().draw_mermaid_png()))"
   ]
  }
 ],
 "metadata": {
  "kernelspec": {
   "display_name": "Python 3",
   "language": "python",
   "name": "python3"
  },
  "language_info": {
   "codemirror_mode": {
    "name": "ipython",
    "version": 3
   },
   "file_extension": ".py",
   "mimetype": "text/x-python",
   "name": "python",
   "nbconvert_exporter": "python",
   "pygments_lexer": "ipython3",
   "version": "3.14.0"
  }
 },
 "nbformat": 4,
 "nbformat_minor": 5
}
